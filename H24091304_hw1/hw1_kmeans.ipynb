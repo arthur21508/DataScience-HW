{
 "cells": [
  {
   "cell_type": "code",
   "execution_count": 1,
   "metadata": {},
   "outputs": [
    {
     "data": {
      "text/html": [
       "<div>\n",
       "<style scoped>\n",
       "    .dataframe tbody tr th:only-of-type {\n",
       "        vertical-align: middle;\n",
       "    }\n",
       "\n",
       "    .dataframe tbody tr th {\n",
       "        vertical-align: top;\n",
       "    }\n",
       "\n",
       "    .dataframe thead th {\n",
       "        text-align: right;\n",
       "    }\n",
       "</style>\n",
       "<table border=\"1\" class=\"dataframe\">\n",
       "  <thead>\n",
       "    <tr style=\"text-align: right;\">\n",
       "      <th></th>\n",
       "      <th>x</th>\n",
       "      <th>y</th>\n",
       "      <th>cluster</th>\n",
       "      <th>label</th>\n",
       "    </tr>\n",
       "  </thead>\n",
       "  <tbody>\n",
       "    <tr>\n",
       "      <th>0</th>\n",
       "      <td>2.1364</td>\n",
       "      <td>0.8369</td>\n",
       "      <td>1</td>\n",
       "      <td>0</td>\n",
       "    </tr>\n",
       "    <tr>\n",
       "      <th>1</th>\n",
       "      <td>7.4096</td>\n",
       "      <td>-1.4137</td>\n",
       "      <td>3</td>\n",
       "      <td>0</td>\n",
       "    </tr>\n",
       "    <tr>\n",
       "      <th>2</th>\n",
       "      <td>5.0996</td>\n",
       "      <td>1.1552</td>\n",
       "      <td>0</td>\n",
       "      <td>0</td>\n",
       "    </tr>\n",
       "    <tr>\n",
       "      <th>3</th>\n",
       "      <td>7.8149</td>\n",
       "      <td>-1.0186</td>\n",
       "      <td>3</td>\n",
       "      <td>0</td>\n",
       "    </tr>\n",
       "    <tr>\n",
       "      <th>4</th>\n",
       "      <td>1.8925</td>\n",
       "      <td>1.2714</td>\n",
       "      <td>1</td>\n",
       "      <td>0</td>\n",
       "    </tr>\n",
       "    <tr>\n",
       "      <th>...</th>\n",
       "      <td>...</td>\n",
       "      <td>...</td>\n",
       "      <td>...</td>\n",
       "      <td>...</td>\n",
       "    </tr>\n",
       "    <tr>\n",
       "      <th>295</th>\n",
       "      <td>1.5798</td>\n",
       "      <td>1.9737</td>\n",
       "      <td>1</td>\n",
       "      <td>0</td>\n",
       "    </tr>\n",
       "    <tr>\n",
       "      <th>296</th>\n",
       "      <td>1.3918</td>\n",
       "      <td>2.5183</td>\n",
       "      <td>1</td>\n",
       "      <td>0</td>\n",
       "    </tr>\n",
       "    <tr>\n",
       "      <th>297</th>\n",
       "      <td>4.5359</td>\n",
       "      <td>0.4390</td>\n",
       "      <td>0</td>\n",
       "      <td>0</td>\n",
       "    </tr>\n",
       "    <tr>\n",
       "      <th>298</th>\n",
       "      <td>7.7911</td>\n",
       "      <td>0.3695</td>\n",
       "      <td>3</td>\n",
       "      <td>0</td>\n",
       "    </tr>\n",
       "    <tr>\n",
       "      <th>299</th>\n",
       "      <td>2.7497</td>\n",
       "      <td>-1.7915</td>\n",
       "      <td>2</td>\n",
       "      <td>0</td>\n",
       "    </tr>\n",
       "  </tbody>\n",
       "</table>\n",
       "<p>300 rows × 4 columns</p>\n",
       "</div>"
      ],
      "text/plain": [
       "          x       y  cluster label\n",
       "0    2.1364  0.8369        1     0\n",
       "1    7.4096 -1.4137        3     0\n",
       "2    5.0996  1.1552        0     0\n",
       "3    7.8149 -1.0186        3     0\n",
       "4    1.8925  1.2714        1     0\n",
       "..      ...     ...      ...   ...\n",
       "295  1.5798  1.9737        1     0\n",
       "296  1.3918  2.5183        1     0\n",
       "297  4.5359  0.4390        0     0\n",
       "298  7.7911  0.3695        3     0\n",
       "299  2.7497 -1.7915        2     0\n",
       "\n",
       "[300 rows x 4 columns]"
      ]
     },
     "execution_count": 1,
     "metadata": {},
     "output_type": "execute_result"
    }
   ],
   "source": [
    "import pandas as pd\n",
    "import matplotlib.pyplot as plt\n",
    "import random as rd\n",
    "df=pd.read_csv(\"cdata.csv\") #導入data\n",
    "df.insert(3,\"label\",\"0\") #新增一個放label的column\n",
    "df"
   ]
  },
  {
   "cell_type": "markdown",
   "metadata": {},
   "source": [
    "# Question 1"
   ]
  },
  {
   "cell_type": "code",
   "execution_count": 2,
   "metadata": {},
   "outputs": [],
   "source": [
    "#定義距離函數\n",
    "def dst(a1,a2,b1,b2):\n",
    "    distance=(((a1-b1)**2)+((a2-b2)**2))**(1/2)\n",
    "    return distance"
   ]
  },
  {
   "cell_type": "code",
   "execution_count": 3,
   "metadata": {},
   "outputs": [],
   "source": [
    "#定義k-means\n",
    "def k_means():\n",
    "        \n",
    "    #算距離，貼上label\n",
    "    for i in range(len(df)):\n",
    "        for j in range(k):\n",
    "            dist[j]=dst(df.loc[i,\"x\"],df.loc[i,\"y\"],cent[j][0],cent[j][1])\n",
    "        min_dis=min(dist)\n",
    "        for l in range(k):\n",
    "            if min_dis==dist[l]:\n",
    "                df.loc[i,\"label\"]=l\n",
    "    \n",
    "    #畫圖\n",
    "    for i in range(k):\n",
    "        plt.scatter(df[\"x\"][df[\"label\"]==i],df[\"y\"][df[\"label\"]==i],c=color[i],label=i)\n",
    "        plt.scatter(cent[i][0],cent[i][1],marker=\"x\",c=\"black\",s=100,linewidths=100)\n",
    "    plt.legend(loc=\"upper right\")\n",
    "    \n",
    "    \n",
    "    #更新中心點\n",
    "    for i in range(k):\n",
    "        cent[i][0]=df[\"x\"][df[\"label\"]==i].sum()/len(df[\"x\"][df[\"label\"]==i])\n",
    "        cent[i][1]=df[\"y\"][df[\"label\"]==i].sum()/len(df[\"y\"][df[\"label\"]==i])"
   ]
  },
  {
   "cell_type": "code",
   "execution_count": 37,
   "metadata": {},
   "outputs": [],
   "source": [
    "k=4 #cluster數量\n",
    "num=rd.sample(range(0,300),k) #取隨機的k個點當centroids\n",
    "\n",
    "#用一個list紀錄centroids的座標\n",
    "cent=[]\n",
    "for i in num:\n",
    "    cent.append([df.loc[i,\"x\"],df.loc[i,\"y\"]])\n",
    "\n",
    "#用一個list紀錄距離\n",
    "dist=[]\n",
    "for i in range(k):\n",
    "    dist.append(0)\n",
    "    \n",
    "#用一個list裝顏色\n",
    "color=[\"red\",\"orange\",\"yellow\",\"green\"]"
   ]
  },
  {
   "cell_type": "code",
   "execution_count": 38,
   "metadata": {
    "scrolled": false
   },
   "outputs": [
    {
     "data": {
      "image/png": "[encoded data removed]",
      "text/plain": [
       "<Figure size 432x288 with 1 Axes>"
      ]
     },
     "metadata": {
      "needs_background": "light"
     },
     "output_type": "display_data"
    }
   ],
   "source": [
    "k_means()"
   ]
  },
  {
   "cell_type": "code",
   "execution_count": 39,
   "metadata": {
    "scrolled": true
   },
   "outputs": [
    {
     "data": {
      "image/png": "[encoded data removed]",
      "text/plain": [
       "<Figure size 432x288 with 1 Axes>"
      ]
     },
     "metadata": {
      "needs_background": "light"
     },
     "output_type": "display_data"
    }
   ],
   "source": [
    "k_means()"
   ]
  },
  {
   "cell_type": "code",
   "execution_count": 40,
   "metadata": {
    "scrolled": true
   },
   "outputs": [
    {
     "data": {
      "image/png": "[encoded data removed]",
      "text/plain": [
       "<Figure size 432x288 with 1 Axes>"
      ]
     },
     "metadata": {
      "needs_background": "light"
     },
     "output_type": "display_data"
    }
   ],
   "source": [
    "k_means()"
   ]
  },
  {
   "cell_type": "markdown",
   "metadata": {},
   "source": [
    "# Question 2"
   ]
  },
  {
   "cell_type": "code",
   "execution_count": 15,
   "metadata": {},
   "outputs": [],
   "source": [
    "#定義k-means(不畫圖，會自行判斷是否converge)\n",
    "def k_means_1(list_SSE):\n",
    "    \n",
    "    change=0 #判斷是否改變的變數\n",
    "        \n",
    "    #算距離，貼上label\n",
    "    for i in range(len(df)):\n",
    "        for j in range(k):\n",
    "            dist[j]=dst(df.loc[i,\"x\"],df.loc[i,\"y\"],cent[j][0],cent[j][1])\n",
    "        min_dis=min(dist)\n",
    "        for l in range(k):\n",
    "            if min_dis==dist[l]:\n",
    "                if df.loc[i,\"label\"]!=l:\n",
    "                    change+=1\n",
    "                df.loc[i,\"label\"]=l\n",
    "    \n",
    "    #更新中心點\n",
    "    for i in range(k):\n",
    "        cent[i][0]=df[\"x\"][df[\"label\"]==i].sum()/len(df[\"x\"][df[\"label\"]==i])\n",
    "        cent[i][1]=df[\"y\"][df[\"label\"]==i].sum()/len(df[\"y\"][df[\"label\"]==i])\n",
    "        \n",
    "    #判斷是否converge(是的話算出SSE,否的話再做一次)\n",
    "    if change/len(df)>0.1:\n",
    "        k_means_1(list_SSE)\n",
    "    else:\n",
    "        SSE=0\n",
    "        for i in range(len(df)):\n",
    "            SSE+=(df.loc[i,\"x\"]-cent[df.loc[i,\"label\"]][0])**2+(df.loc[i,\"y\"]-cent[df.loc[i,\"label\"]][1])**2\n",
    "        list_SSE.append(SSE)\n"
   ]
  },
  {
   "cell_type": "code",
   "execution_count": 43,
   "metadata": {
    "scrolled": true
   },
   "outputs": [],
   "source": [
    "list_SSE=[] #紀錄SSE的list\n",
    "\n",
    "#用迴圈跑不同的K\n",
    "for r in range(2,50):\n",
    "    k=r\n",
    "    num=rd.sample(range(0,300),k) #取隨機的k個點當centroids\n",
    "\n",
    "    #用一個list紀錄centroids的座標\n",
    "    cent=[]\n",
    "    for i in num:\n",
    "        cent.append([df.loc[i,\"x\"],df.loc[i,\"y\"]])\n",
    "\n",
    "    #用一個list紀錄距離\n",
    "    dist=[]\n",
    "    for i in range(k):\n",
    "        dist.append(0)\n",
    "    \n",
    "    k_means_1(list_SSE)\n"
   ]
  },
  {
   "cell_type": "code",
   "execution_count": 45,
   "metadata": {},
   "outputs": [
    {
     "data": {
      "text/plain": [
       "[<matplotlib.lines.Line2D at 0x29611fd8820>]"
      ]
     },
     "execution_count": 45,
     "metadata": {},
     "output_type": "execute_result"
    },
    {
     "data": {
      "image/png": "[encoded data removed]",
      "text/plain": [
       "<Figure size 600x400 with 1 Axes>"
      ]
     },
     "metadata": {
      "needs_background": "light"
     },
     "output_type": "display_data"
    }
   ],
   "source": [
    "#設定x軸\n",
    "x_axis=[]\n",
    "for i in range(2,50):\n",
    "    x_axis.append(i)\n",
    "\n",
    "#畫圖\n",
    "plt.figure(dpi=100,linewidth = 2)\n",
    "plt.plot(x_axis,list_SSE)"
   ]
  },
  {
   "cell_type": "markdown",
   "metadata": {},
   "source": [
    "# Question 3"
   ]
  },
  {
   "cell_type": "code",
   "execution_count": 42,
   "metadata": {},
   "outputs": [
    {
     "name": "stdout",
     "output_type": "stream",
     "text": [
      "[148.7678746740217, 129.14849099923475, 134.66889667770852, 148.1022718478057, 134.95455942353146, 150.54519435358586, 131.26691420463038, 127.3001422247956, 130.03486442181557, 123.64738479936494]\n"
     ]
    }
   ],
   "source": [
    "list_SSE1=[] #紀錄SSE的list\n",
    "\n",
    "#用迴圈跑10次\n",
    "for r in range(10):\n",
    "    k=10\n",
    "    num=rd.sample(range(0,300),k) #取隨機的k個點當centroids\n",
    "\n",
    "    #用一個list紀錄centroids的座標\n",
    "    cent=[]\n",
    "    for i in num:\n",
    "        cent.append([df.loc[i,\"x\"],df.loc[i,\"y\"]])\n",
    "\n",
    "    #用一個list紀錄距離\n",
    "    dist=[]\n",
    "    for i in range(k):\n",
    "        dist.append(0)\n",
    "    \n",
    "    k_means_1(list_SSE1)\n"
   ]
  },
  {
   "cell_type": "code",
   "execution_count": 48,
   "metadata": {},
   "outputs": [
    {
     "data": {
      "text/plain": [
       "<BarContainer object of 10 artists>"
      ]
     },
     "execution_count": 48,
     "metadata": {},
     "output_type": "execute_result"
    },
    {
     "data": {
      "image/png": "[encoded data removed]",
      "text/plain": [
       "<Figure size 432x288 with 1 Axes>"
      ]
     },
     "metadata": {
      "needs_background": "light"
     },
     "output_type": "display_data"
    }
   ],
   "source": [
    "#畫圖\n",
    "X=[0,1,2,3,4,5,6,7,8,9]\n",
    "plt.bar(X,list_SSE1)"
   ]
  }
 ],
 "metadata": {
  "kernelspec": {
   "display_name": "Python 3",
   "language": "python",
   "name": "python3"
  },
  "language_info": {
   "codemirror_mode": {
    "name": "ipython",
    "version": 3
   },
   "file_extension": ".py",
   "mimetype": "text/x-python",
   "name": "python",
   "nbconvert_exporter": "python",
   "pygments_lexer": "ipython3",
   "version": "3.8.3"
  }
 },
 "nbformat": 4,
 "nbformat_minor": 4
}
